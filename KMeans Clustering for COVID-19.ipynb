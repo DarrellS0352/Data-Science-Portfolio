{
 "cells": [
  {
   "cell_type": "markdown",
   "metadata": {},
   "source": [
    "## Import libraries"
   ]
  },
  {
   "cell_type": "code",
   "execution_count": 15,
   "metadata": {},
   "outputs": [],
   "source": [
    "import pandas as pd\n",
    "\n",
    "from sklearn.cluster import KMeans\n",
    "from sklearn.preprocessing import MinMaxScaler\n",
    "from sklearn.metrics import silhouette_score\n",
    "\n",
    "import matplotlib.pyplot as plt\n",
    "import seaborn as sns\n",
    "sns.set_style('darkgrid')\n",
    "%matplotlib inline\n",
    "\n",
    "pd.set_option('max_columns',None)\n",
    "import warnings\n",
    "warnings.filterwarnings('ignore')"
   ]
  },
  {
   "cell_type": "markdown",
   "metadata": {},
   "source": [
    "## Import data\n",
    "Data gathered from the CDC and the US Census for a single week during the up-swing of the COVID-19 (Spring 2020)"
   ]
  },
  {
   "cell_type": "code",
   "execution_count": 27,
   "metadata": {},
   "outputs": [
    {
     "data": {
      "text/html": [
       "<div>\n",
       "<style scoped>\n",
       "    .dataframe tbody tr th:only-of-type {\n",
       "        vertical-align: middle;\n",
       "    }\n",
       "\n",
       "    .dataframe tbody tr th {\n",
       "        vertical-align: top;\n",
       "    }\n",
       "\n",
       "    .dataframe thead th {\n",
       "        text-align: right;\n",
       "    }\n",
       "</style>\n",
       "<table border=\"1\" class=\"dataframe\">\n",
       "  <thead>\n",
       "    <tr style=\"text-align: right;\">\n",
       "      <th></th>\n",
       "      <th>state</th>\n",
       "      <th>county</th>\n",
       "      <th>inf_rate</th>\n",
       "      <th>mrt_rate</th>\n",
       "      <th>Density_per_square_mile_of_land_area_Population</th>\n",
       "      <th>Perct_Total_age0to17</th>\n",
       "      <th>Perct_Total_age18to64</th>\n",
       "      <th>Perct_Total_age65plus</th>\n",
       "      <th>Perct_Total_age85plus</th>\n",
       "      <th>ICU_Beds</th>\n",
       "    </tr>\n",
       "  </thead>\n",
       "  <tbody>\n",
       "    <tr>\n",
       "      <th>0</th>\n",
       "      <td>Alabama</td>\n",
       "      <td>Autauga</td>\n",
       "      <td>0.00</td>\n",
       "      <td>0.0</td>\n",
       "      <td>91.8</td>\n",
       "      <td>23.674035</td>\n",
       "      <td>60.763296</td>\n",
       "      <td>15.562670</td>\n",
       "      <td>1.566519</td>\n",
       "      <td>6</td>\n",
       "    </tr>\n",
       "    <tr>\n",
       "      <th>1</th>\n",
       "      <td>Alabama</td>\n",
       "      <td>Baldwin</td>\n",
       "      <td>2.38</td>\n",
       "      <td>8.0</td>\n",
       "      <td>114.6</td>\n",
       "      <td>21.607911</td>\n",
       "      <td>57.948739</td>\n",
       "      <td>20.443350</td>\n",
       "      <td>1.974113</td>\n",
       "      <td>51</td>\n",
       "    </tr>\n",
       "    <tr>\n",
       "      <th>2</th>\n",
       "      <td>Alabama</td>\n",
       "      <td>Barbour</td>\n",
       "      <td>0.00</td>\n",
       "      <td>0.0</td>\n",
       "      <td>31.0</td>\n",
       "      <td>20.867328</td>\n",
       "      <td>59.712230</td>\n",
       "      <td>19.420441</td>\n",
       "      <td>1.897030</td>\n",
       "      <td>5</td>\n",
       "    </tr>\n",
       "    <tr>\n",
       "      <th>3</th>\n",
       "      <td>Alabama</td>\n",
       "      <td>Bibb</td>\n",
       "      <td>0.00</td>\n",
       "      <td>0.0</td>\n",
       "      <td>36.8</td>\n",
       "      <td>20.477679</td>\n",
       "      <td>63.049107</td>\n",
       "      <td>16.473214</td>\n",
       "      <td>1.620536</td>\n",
       "      <td>0</td>\n",
       "    </tr>\n",
       "    <tr>\n",
       "      <th>4</th>\n",
       "      <td>Alabama</td>\n",
       "      <td>Blount</td>\n",
       "      <td>0.00</td>\n",
       "      <td>0.0</td>\n",
       "      <td>88.9</td>\n",
       "      <td>23.153527</td>\n",
       "      <td>58.609959</td>\n",
       "      <td>18.236515</td>\n",
       "      <td>1.784232</td>\n",
       "      <td>6</td>\n",
       "    </tr>\n",
       "  </tbody>\n",
       "</table>\n",
       "</div>"
      ],
      "text/plain": [
       "     state   county  inf_rate  mrt_rate  \\\n",
       "0  Alabama  Autauga      0.00       0.0   \n",
       "1  Alabama  Baldwin      2.38       8.0   \n",
       "2  Alabama  Barbour      0.00       0.0   \n",
       "3  Alabama     Bibb      0.00       0.0   \n",
       "4  Alabama   Blount      0.00       0.0   \n",
       "\n",
       "   Density_per_square_mile_of_land_area_Population  Perct_Total_age0to17  \\\n",
       "0                                             91.8             23.674035   \n",
       "1                                            114.6             21.607911   \n",
       "2                                             31.0             20.867328   \n",
       "3                                             36.8             20.477679   \n",
       "4                                             88.9             23.153527   \n",
       "\n",
       "   Perct_Total_age18to64  Perct_Total_age65plus  Perct_Total_age85plus  \\\n",
       "0              60.763296              15.562670               1.566519   \n",
       "1              57.948739              20.443350               1.974113   \n",
       "2              59.712230              19.420441               1.897030   \n",
       "3              63.049107              16.473214               1.620536   \n",
       "4              58.609959              18.236515               1.784232   \n",
       "\n",
       "   ICU_Beds  \n",
       "0         6  \n",
       "1        51  \n",
       "2         5  \n",
       "3         0  \n",
       "4         6  "
      ]
     },
     "execution_count": 27,
     "metadata": {},
     "output_type": "execute_result"
    }
   ],
   "source": [
    "df = pd.read_csv('covid_clustering_data.csv')\n",
    "df.head()"
   ]
  },
  {
   "cell_type": "markdown",
   "metadata": {},
   "source": [
    "## Data preparation\n",
    "Select features to cluster on. It's best to start small and add interesting features iteratively."
   ]
  },
  {
   "cell_type": "code",
   "execution_count": 3,
   "metadata": {
    "scrolled": true
   },
   "outputs": [],
   "source": [
    "df2 = df[[\n",
    "#  'state',\n",
    "#  'county',\n",
    " 'inf_rate',\n",
    " 'mrt_rate',\n",
    "#  'Density_per_square_mile_of_land_area_Population',\n",
    "#  'Perct_Total_age0to17',\n",
    "#  'Perct_Total_age18to64',\n",
    "#  'Perct_Total_age65plus',\n",
    "#  'Perct_Total_age85plus',\n",
    "#  'ICU_Beds'\n",
    "    ]]\n",
    "\n",
    "# Unscaled data can throw off clustering algorithms quite a bit\n",
    "scaler = MinMaxScaler()\n",
    "df2_scaled = pd.DataFrame(scaler.fit_transform(df2), columns=df2.columns)"
   ]
  },
  {
   "cell_type": "markdown",
   "metadata": {},
   "source": [
    "### Optimizing k - number of clusters"
   ]
  },
  {
   "cell_type": "code",
   "execution_count": 4,
   "metadata": {
    "scrolled": false
   },
   "outputs": [
    {
     "data": {
      "image/png": "[encoded data removed]",
      "text/plain": [
       "<Figure size 432x288 with 1 Axes>"
      ]
     },
     "metadata": {
      "needs_background": "light"
     },
     "output_type": "display_data"
    }
   ],
   "source": [
    "## Optimal k - elbow method\n",
    "data = df2_scaled.copy()\n",
    "\n",
    "sse = {}\n",
    "for k in range(1, 10):\n",
    "    kmeans = KMeans(n_clusters=k, max_iter=1000, random_state=0).fit(data)\n",
    "    data[\"clusters\"] = kmeans.labels_\n",
    "    sse[k] = kmeans.inertia_ # Inertia: Sum of distances of samples to their closest cluster center\n",
    "    \n",
    "plt.figure()\n",
    "plt.plot(list(sse.keys()), list(sse.values()))\n",
    "plt.xlabel(\"k\")\n",
    "plt.ylabel(\"Sum of Squared Errors\")\n",
    "plt.title('Optimal k - elbow method')\n",
    "plt.show()"
   ]
  },
  {
   "cell_type": "markdown",
   "metadata": {},
   "source": [
    "The elbow method is more of a heuristic method, and in this case it's not easy to determine which is best. Ideally, the elbow method produces a more clear \"L\" shape and is easy to decipher. To get a more mathematically correct answer, I'll use the silhouette score method."
   ]
  },
  {
   "cell_type": "code",
   "execution_count": 28,
   "metadata": {},
   "outputs": [
    {
     "data": {
      "image/png": "[encoded data removed]",
      "text/plain": [
       "<Figure size 432x288 with 1 Axes>"
      ]
     },
     "metadata": {
      "needs_background": "light"
     },
     "output_type": "display_data"
    },
    {
     "data": {
      "text/html": [
       "<div>\n",
       "<style scoped>\n",
       "    .dataframe tbody tr th:only-of-type {\n",
       "        vertical-align: middle;\n",
       "    }\n",
       "\n",
       "    .dataframe tbody tr th {\n",
       "        vertical-align: top;\n",
       "    }\n",
       "\n",
       "    .dataframe thead th {\n",
       "        text-align: right;\n",
       "    }\n",
       "</style>\n",
       "<table border=\"1\" class=\"dataframe\">\n",
       "  <thead>\n",
       "    <tr style=\"text-align: right;\">\n",
       "      <th></th>\n",
       "      <th>k</th>\n",
       "      <th>sil_coef</th>\n",
       "    </tr>\n",
       "  </thead>\n",
       "  <tbody>\n",
       "    <tr>\n",
       "      <th>0</th>\n",
       "      <td>3.0</td>\n",
       "      <td>0.837135</td>\n",
       "    </tr>\n",
       "    <tr>\n",
       "      <th>1</th>\n",
       "      <td>4.0</td>\n",
       "      <td>0.837281</td>\n",
       "    </tr>\n",
       "    <tr>\n",
       "      <th>2</th>\n",
       "      <td>5.0</td>\n",
       "      <td>0.822524</td>\n",
       "    </tr>\n",
       "    <tr>\n",
       "      <th>3</th>\n",
       "      <td>6.0</td>\n",
       "      <td>0.821220</td>\n",
       "    </tr>\n",
       "    <tr>\n",
       "      <th>4</th>\n",
       "      <td>7.0</td>\n",
       "      <td>0.806752</td>\n",
       "    </tr>\n",
       "    <tr>\n",
       "      <th>5</th>\n",
       "      <td>8.0</td>\n",
       "      <td>0.816648</td>\n",
       "    </tr>\n",
       "    <tr>\n",
       "      <th>6</th>\n",
       "      <td>9.0</td>\n",
       "      <td>0.796400</td>\n",
       "    </tr>\n",
       "    <tr>\n",
       "      <th>7</th>\n",
       "      <td>10.0</td>\n",
       "      <td>0.798007</td>\n",
       "    </tr>\n",
       "  </tbody>\n",
       "</table>\n",
       "</div>"
      ],
      "text/plain": [
       "      k  sil_coef\n",
       "0   3.0  0.837135\n",
       "1   4.0  0.837281\n",
       "2   5.0  0.822524\n",
       "3   6.0  0.821220\n",
       "4   7.0  0.806752\n",
       "5   8.0  0.816648\n",
       "6   9.0  0.796400\n",
       "7  10.0  0.798007"
      ]
     },
     "execution_count": 28,
     "metadata": {},
     "output_type": "execute_result"
    }
   ],
   "source": [
    "## Optimal k = max silhouette score\n",
    "ss = {}\n",
    "ss_df = pd.DataFrame()\n",
    "\n",
    "for k in range(3, 11):\n",
    "    kmeans = KMeans(n_clusters=k, random_state=0).fit(df2_scaled)\n",
    "    label = kmeans.labels_\n",
    "    ss[k] = silhouette_score(df2_scaled, label, metric='euclidean')\n",
    "    ss_df = ss_df.append({'k':k,'sil_coef':ss[k]}, ignore_index=True)\n",
    "\n",
    "plt.figure()\n",
    "plt.plot(list(ss.keys()), list(ss.values()))\n",
    "plt.xlabel(\"k\")\n",
    "plt.ylabel(\"silhouette_score\")\n",
    "plt.vlines(ss_df.k[ss_df.sil_coef == ss_df.sil_coef.max()], \n",
    "           ymin=ss_df.sil_coef.min(), \n",
    "           ymax=ss_df.sil_coef.max(),\n",
    "           color='red',\n",
    "           linestyles='dashed')\n",
    "plt.title('Optimal k - silhouette score')\n",
    "plt.show()\n",
    "\n",
    "ss_df"
   ]
  },
  {
   "cell_type": "markdown",
   "metadata": {},
   "source": [
    "Optimal k = 4. 3 is only fractionally in second place and is worth considering."
   ]
  },
  {
   "cell_type": "markdown",
   "metadata": {},
   "source": [
    "### Clustering"
   ]
  },
  {
   "cell_type": "code",
   "execution_count": 6,
   "metadata": {
    "scrolled": false
   },
   "outputs": [
    {
     "name": "stdout",
     "output_type": "stream",
     "text": [
      "Params: {'n_clusters': 4, 'init': 'k-means++', 'n_init': 10, 'max_iter': 1000, 'random_state': 0, 'algorithm': 'auto'}\n",
      "----------------------------------------\n",
      "Clustering performance...\n",
      "Inertia: 3.5671073563768134\n",
      "n_iter: 4\n",
      "----------------------------------------\n",
      "Cluster centers: \n",
      "    inf_rate  mrt_rate  cluster\n",
      "0  0.019003  0.103467        0\n",
      "1  0.028604  0.218905        1\n",
      "2  0.044215  0.521078        2\n",
      "3  1.000000  0.100000        3\n",
      "----------------------------------------\n"
     ]
    },
    {
     "data": {
      "image/png": "[encoded data removed]",
      "text/plain": [
       "<Figure size 432x288 with 1 Axes>"
      ]
     },
     "metadata": {
      "needs_background": "light"
     },
     "output_type": "display_data"
    },
    {
     "name": "stdout",
     "output_type": "stream",
     "text": [
      "0    4288\n",
      "1     482\n",
      "2      34\n",
      "3       2\n",
      "Name: cluster, dtype: int64\n"
     ]
    },
    {
     "data": {
      "image/png": "[encoded data removed]",
      "text/plain": [
       "<Figure size 432x288 with 1 Axes>"
      ]
     },
     "metadata": {
      "needs_background": "light"
     },
     "output_type": "display_data"
    }
   ],
   "source": [
    "# Hyperparameters\n",
    "params = {\n",
    "    'n_clusters':4, # optimal k according to the silhouette score\n",
    "    'init':'k-means++',\n",
    "    'n_init':10,\n",
    "    'max_iter':1000,\n",
    "    'random_state':0,\n",
    "    'algorithm':'auto'\n",
    "}\n",
    "\n",
    "# Clustering\n",
    "km = KMeans(**params)\n",
    "\n",
    "clusters = km.fit_predict(df2_scaled)\n",
    "print('Params:',params)\n",
    "print('-'*40)\n",
    "print('Clustering performance...')\n",
    "print('Inertia:',km.inertia_)\n",
    "print('n_iter:',km.n_iter_)\n",
    "print('-'*40)\n",
    "\n",
    "#  Cluster centers are the values the algorithm bases each cluster on\n",
    "centers = pd.DataFrame(km.cluster_centers_)\n",
    "centers.columns = df2.columns\n",
    "centers['cluster'] = centers.index\n",
    "\n",
    "print('Cluster centers: \\n',centers)\n",
    "print('-'*40)\n",
    "\n",
    "# Append newly created clusters to original DF\n",
    "clustersDF = pd.DataFrame({'cluster':clusters})\n",
    "df3 = df2_scaled.merge(clustersDF, how='left', left_index=True, right_index=True)\n",
    "\n",
    "## Inspect clustering results\n",
    "\n",
    "# cluster counts\n",
    "plt.figure()\n",
    "sns.countplot(df3.cluster)\n",
    "plt.title('Cluster counts')\n",
    "plt.show()\n",
    "\n",
    "print(df3.cluster.value_counts())\n",
    "\n",
    "# cluster scatter plot #### manual code based on what features are being clustered ####\n",
    "plt.figure()\n",
    "sns.scatterplot(df3.inf_rate, df3.mrt_rate, \n",
    "                hue=df3.cluster, \n",
    "                palette=sns.color_palette(\"hls\", km.n_clusters)\n",
    "               )\n",
    "plt.title('Clusters visualized')\n",
    "plt.show()"
   ]
  },
  {
   "cell_type": "markdown",
   "metadata": {},
   "source": [
    "### Cluster analysis"
   ]
  },
  {
   "cell_type": "markdown",
   "metadata": {},
   "source": [
    "#### Cluster centers\n",
    "Use the cluster centers as a general measure of cluster location and to help interpret each cluster. Each center can be seen as representing the \"average observation\" within a cluster across all the variables in the analysis."
   ]
  },
  {
   "cell_type": "code",
   "execution_count": 7,
   "metadata": {},
   "outputs": [
    {
     "data": {
      "image/png": "[encoded data removed]",
      "text/plain": [
       "<Figure size 432x288 with 1 Axes>"
      ]
     },
     "metadata": {
      "needs_background": "light"
     },
     "output_type": "display_data"
    },
    {
     "data": {
      "image/png": "[encoded data removed]",
      "text/plain": [
       "<Figure size 432x288 with 1 Axes>"
      ]
     },
     "metadata": {
      "needs_background": "light"
     },
     "output_type": "display_data"
    },
    {
     "data": {
      "text/html": [
       "<div>\n",
       "<style scoped>\n",
       "    .dataframe tbody tr th:only-of-type {\n",
       "        vertical-align: middle;\n",
       "    }\n",
       "\n",
       "    .dataframe tbody tr th {\n",
       "        vertical-align: top;\n",
       "    }\n",
       "\n",
       "    .dataframe thead th {\n",
       "        text-align: right;\n",
       "    }\n",
       "</style>\n",
       "<table border=\"1\" class=\"dataframe\">\n",
       "  <thead>\n",
       "    <tr style=\"text-align: right;\">\n",
       "      <th></th>\n",
       "      <th>inf_rate</th>\n",
       "      <th>mrt_rate</th>\n",
       "      <th>cluster</th>\n",
       "    </tr>\n",
       "  </thead>\n",
       "  <tbody>\n",
       "    <tr>\n",
       "      <th>0</th>\n",
       "      <td>0.019003</td>\n",
       "      <td>0.103467</td>\n",
       "      <td>0</td>\n",
       "    </tr>\n",
       "    <tr>\n",
       "      <th>1</th>\n",
       "      <td>0.028604</td>\n",
       "      <td>0.218905</td>\n",
       "      <td>1</td>\n",
       "    </tr>\n",
       "    <tr>\n",
       "      <th>2</th>\n",
       "      <td>0.044215</td>\n",
       "      <td>0.521078</td>\n",
       "      <td>2</td>\n",
       "    </tr>\n",
       "    <tr>\n",
       "      <th>3</th>\n",
       "      <td>1.000000</td>\n",
       "      <td>0.100000</td>\n",
       "      <td>3</td>\n",
       "    </tr>\n",
       "  </tbody>\n",
       "</table>\n",
       "</div>"
      ],
      "text/plain": [
       "   inf_rate  mrt_rate  cluster\n",
       "0  0.019003  0.103467        0\n",
       "1  0.028604  0.218905        1\n",
       "2  0.044215  0.521078        2\n",
       "3  1.000000  0.100000        3"
      ]
     },
     "execution_count": 7,
     "metadata": {},
     "output_type": "execute_result"
    }
   ],
   "source": [
    "sns.scatterplot(centers.inf_rate, centers.mrt_rate, \n",
    "                hue=centers.cluster,\n",
    "                palette=sns.color_palette(\"hls\", km.n_clusters))\n",
    "plt.title('Cluster centers')\n",
    "plt.show()\n",
    "\n",
    "sns.scatterplot(df3.inf_rate, df3.mrt_rate, \n",
    "                hue=df3.cluster, \n",
    "                palette=sns.color_palette(\"hls\", km.n_clusters)\n",
    "               )\n",
    "plt.title('Clusters visualized')\n",
    "plt.show()\n",
    "\n",
    "centers "
   ]
  },
  {
   "cell_type": "markdown",
   "metadata": {},
   "source": [
    "The clusters appear to represent:\n",
    "0. Regular infection rates with lower mortality rates (red)\n",
    "1. Regular infection rates with higher mortality rates (green)\n",
    "2. High mortality rates (blue)\n",
    "3. High infection rates (purple)\n",
    "\n",
    "The outliers are interesting. The highest infection rate counties have fairly low mortality rates, and vice-versa, the highest mortality rate counties have fairly low infection rates."
   ]
  },
  {
   "cell_type": "markdown",
   "metadata": {},
   "source": [
    "#### Overlaid data"
   ]
  },
  {
   "cell_type": "code",
   "execution_count": 8,
   "metadata": {},
   "outputs": [
    {
     "data": {
      "text/html": [
       "<div>\n",
       "<style scoped>\n",
       "    .dataframe tbody tr th:only-of-type {\n",
       "        vertical-align: middle;\n",
       "    }\n",
       "\n",
       "    .dataframe tbody tr th {\n",
       "        vertical-align: top;\n",
       "    }\n",
       "\n",
       "    .dataframe thead th {\n",
       "        text-align: right;\n",
       "    }\n",
       "</style>\n",
       "<table border=\"1\" class=\"dataframe\">\n",
       "  <thead>\n",
       "    <tr style=\"text-align: right;\">\n",
       "      <th></th>\n",
       "      <th>state</th>\n",
       "      <th>county</th>\n",
       "      <th>inf_rate</th>\n",
       "      <th>mrt_rate</th>\n",
       "      <th>Density_per_square_mile_of_land_area_Population</th>\n",
       "      <th>Perct_Total_age0to17</th>\n",
       "      <th>Perct_Total_age18to64</th>\n",
       "      <th>Perct_Total_age65plus</th>\n",
       "      <th>Perct_Total_age85plus</th>\n",
       "      <th>ICU_Beds</th>\n",
       "      <th>cluster</th>\n",
       "    </tr>\n",
       "  </thead>\n",
       "  <tbody>\n",
       "    <tr>\n",
       "      <th>0</th>\n",
       "      <td>Alabama</td>\n",
       "      <td>Autauga</td>\n",
       "      <td>0.00</td>\n",
       "      <td>0.0</td>\n",
       "      <td>91.8</td>\n",
       "      <td>23.674035</td>\n",
       "      <td>60.763296</td>\n",
       "      <td>15.562670</td>\n",
       "      <td>1.566519</td>\n",
       "      <td>6</td>\n",
       "      <td>0</td>\n",
       "    </tr>\n",
       "    <tr>\n",
       "      <th>1</th>\n",
       "      <td>Alabama</td>\n",
       "      <td>Baldwin</td>\n",
       "      <td>2.38</td>\n",
       "      <td>8.0</td>\n",
       "      <td>114.6</td>\n",
       "      <td>21.607911</td>\n",
       "      <td>57.948739</td>\n",
       "      <td>20.443350</td>\n",
       "      <td>1.974113</td>\n",
       "      <td>51</td>\n",
       "      <td>1</td>\n",
       "    </tr>\n",
       "    <tr>\n",
       "      <th>2</th>\n",
       "      <td>Alabama</td>\n",
       "      <td>Barbour</td>\n",
       "      <td>0.00</td>\n",
       "      <td>0.0</td>\n",
       "      <td>31.0</td>\n",
       "      <td>20.867328</td>\n",
       "      <td>59.712230</td>\n",
       "      <td>19.420441</td>\n",
       "      <td>1.897030</td>\n",
       "      <td>5</td>\n",
       "      <td>0</td>\n",
       "    </tr>\n",
       "    <tr>\n",
       "      <th>3</th>\n",
       "      <td>Alabama</td>\n",
       "      <td>Bibb</td>\n",
       "      <td>0.00</td>\n",
       "      <td>0.0</td>\n",
       "      <td>36.8</td>\n",
       "      <td>20.477679</td>\n",
       "      <td>63.049107</td>\n",
       "      <td>16.473214</td>\n",
       "      <td>1.620536</td>\n",
       "      <td>0</td>\n",
       "      <td>0</td>\n",
       "    </tr>\n",
       "    <tr>\n",
       "      <th>4</th>\n",
       "      <td>Alabama</td>\n",
       "      <td>Blount</td>\n",
       "      <td>0.00</td>\n",
       "      <td>0.0</td>\n",
       "      <td>88.9</td>\n",
       "      <td>23.153527</td>\n",
       "      <td>58.609959</td>\n",
       "      <td>18.236515</td>\n",
       "      <td>1.784232</td>\n",
       "      <td>6</td>\n",
       "      <td>0</td>\n",
       "    </tr>\n",
       "  </tbody>\n",
       "</table>\n",
       "</div>"
      ],
      "text/plain": [
       "     state   county  inf_rate  mrt_rate  \\\n",
       "0  Alabama  Autauga      0.00       0.0   \n",
       "1  Alabama  Baldwin      2.38       8.0   \n",
       "2  Alabama  Barbour      0.00       0.0   \n",
       "3  Alabama     Bibb      0.00       0.0   \n",
       "4  Alabama   Blount      0.00       0.0   \n",
       "\n",
       "   Density_per_square_mile_of_land_area_Population  Perct_Total_age0to17  \\\n",
       "0                                             91.8             23.674035   \n",
       "1                                            114.6             21.607911   \n",
       "2                                             31.0             20.867328   \n",
       "3                                             36.8             20.477679   \n",
       "4                                             88.9             23.153527   \n",
       "\n",
       "   Perct_Total_age18to64  Perct_Total_age65plus  Perct_Total_age85plus  \\\n",
       "0              60.763296              15.562670               1.566519   \n",
       "1              57.948739              20.443350               1.974113   \n",
       "2              59.712230              19.420441               1.897030   \n",
       "3              63.049107              16.473214               1.620536   \n",
       "4              58.609959              18.236515               1.784232   \n",
       "\n",
       "   ICU_Beds  cluster  \n",
       "0         6        0  \n",
       "1        51        1  \n",
       "2         5        0  \n",
       "3         0        0  \n",
       "4         6        0  "
      ]
     },
     "execution_count": 8,
     "metadata": {},
     "output_type": "execute_result"
    }
   ],
   "source": [
    "# attach clusters to original dataframe\n",
    "df4 = pd.concat([df,df3.cluster], axis=1)\n",
    "df4.head()"
   ]
  },
  {
   "cell_type": "code",
   "execution_count": 26,
   "metadata": {},
   "outputs": [
    {
     "data": {
      "text/html": [
       "<div>\n",
       "<style scoped>\n",
       "    .dataframe tbody tr th:only-of-type {\n",
       "        vertical-align: middle;\n",
       "    }\n",
       "\n",
       "    .dataframe tbody tr th {\n",
       "        vertical-align: top;\n",
       "    }\n",
       "\n",
       "    .dataframe thead tr th {\n",
       "        text-align: left;\n",
       "    }\n",
       "\n",
       "    .dataframe thead tr:last-of-type th {\n",
       "        text-align: right;\n",
       "    }\n",
       "</style>\n",
       "<table border=\"1\" class=\"dataframe\">\n",
       "  <thead>\n",
       "    <tr>\n",
       "      <th></th>\n",
       "      <th>Density_per_square_mile_of_land_area_Population</th>\n",
       "      <th>Perct_Total_age0to17</th>\n",
       "      <th>Perct_Total_age18to64</th>\n",
       "      <th>Perct_Total_age65plus</th>\n",
       "      <th>Perct_Total_age85plus</th>\n",
       "      <th>ICU_Beds</th>\n",
       "    </tr>\n",
       "    <tr>\n",
       "      <th></th>\n",
       "      <th>mean</th>\n",
       "      <th>mean</th>\n",
       "      <th>mean</th>\n",
       "      <th>mean</th>\n",
       "      <th>mean</th>\n",
       "      <th>mean</th>\n",
       "    </tr>\n",
       "    <tr>\n",
       "      <th>cluster</th>\n",
       "      <th></th>\n",
       "      <th></th>\n",
       "      <th></th>\n",
       "      <th></th>\n",
       "      <th></th>\n",
       "      <th></th>\n",
       "    </tr>\n",
       "  </thead>\n",
       "  <tbody>\n",
       "    <tr>\n",
       "      <th>0</th>\n",
       "      <td>129.021409</td>\n",
       "      <td>22.099747</td>\n",
       "      <td>58.895836</td>\n",
       "      <td>19.004417</td>\n",
       "      <td>2.274542</td>\n",
       "      <td>18.335821</td>\n",
       "    </tr>\n",
       "    <tr>\n",
       "      <th>1</th>\n",
       "      <td>878.497095</td>\n",
       "      <td>22.079454</td>\n",
       "      <td>61.188074</td>\n",
       "      <td>16.732471</td>\n",
       "      <td>2.085528</td>\n",
       "      <td>100.053942</td>\n",
       "    </tr>\n",
       "    <tr>\n",
       "      <th>2</th>\n",
       "      <td>749.617647</td>\n",
       "      <td>21.514976</td>\n",
       "      <td>61.197028</td>\n",
       "      <td>17.287996</td>\n",
       "      <td>2.159967</td>\n",
       "      <td>36.058824</td>\n",
       "    </tr>\n",
       "    <tr>\n",
       "      <th>3</th>\n",
       "      <td>164.700000</td>\n",
       "      <td>20.949798</td>\n",
       "      <td>61.307772</td>\n",
       "      <td>17.742430</td>\n",
       "      <td>2.235810</td>\n",
       "      <td>15.000000</td>\n",
       "    </tr>\n",
       "  </tbody>\n",
       "</table>\n",
       "</div>"
      ],
      "text/plain": [
       "        Density_per_square_mile_of_land_area_Population Perct_Total_age0to17  \\\n",
       "                                                   mean                 mean   \n",
       "cluster                                                                        \n",
       "0                                            129.021409            22.099747   \n",
       "1                                            878.497095            22.079454   \n",
       "2                                            749.617647            21.514976   \n",
       "3                                            164.700000            20.949798   \n",
       "\n",
       "        Perct_Total_age18to64 Perct_Total_age65plus Perct_Total_age85plus  \\\n",
       "                         mean                  mean                  mean   \n",
       "cluster                                                                     \n",
       "0                   58.895836             19.004417              2.274542   \n",
       "1                   61.188074             16.732471              2.085528   \n",
       "2                   61.197028             17.287996              2.159967   \n",
       "3                   61.307772             17.742430              2.235810   \n",
       "\n",
       "           ICU_Beds  \n",
       "               mean  \n",
       "cluster              \n",
       "0         18.335821  \n",
       "1        100.053942  \n",
       "2         36.058824  \n",
       "3         15.000000  "
      ]
     },
     "execution_count": 26,
     "metadata": {},
     "output_type": "execute_result"
    }
   ],
   "source": [
    "# attach clusters to original dataframe\n",
    "df4 = pd.concat([df,df3.cluster], axis=1)\n",
    "\n",
    "# groupby cluster for each feature's mean \n",
    "df4.groupby('cluster').agg({\n",
    "                            'Density_per_square_mile_of_land_area_Population':'mean',\n",
    "                            'Perct_Total_age0to17':'mean', \n",
    "                            'Perct_Total_age18to64':'mean',\n",
    "                            'Perct_Total_age65plus':'mean', \n",
    "                            'Perct_Total_age85plus':'mean', \n",
    "                            'ICU_Beds':aggs\n",
    "                           })"
   ]
  },
  {
   "cell_type": "markdown",
   "metadata": {},
   "source": [
    "__Notes:__\n",
    "1. Density_per_square_mile_of_land_area_Population seems to be split into high/low density areas by cluster\n",
    "2. Perct_Total_age0to17 has little variation\n",
    "3. Perct_Total_age18to64 has little variation\n",
    "4. Perct_Total_age65plus has little variation\n",
    "5. Perct_Total_age85plus has little variation\n",
    "6. ICU_Beds also seems to have some interesting clusters\n",
    "\n",
    "Density_per_square_mile_of_land_area_Population and ICU_Beds are interesting features and are worth consideration to be fed into K-Means."
   ]
  },
  {
   "cell_type": "markdown",
   "metadata": {},
   "source": [
    "### Next steps options\n",
    "1. Continue to explore cluster analysis adding different features\n",
    "2. Use as a feature in a machine learning model\n",
    "3. Utilize for decision support by prioritizing counties by cluster for pandemic mitigation optimization (supplies, personnel, etc)"
   ]
  }
 ],
 "metadata": {
  "kernelspec": {
   "display_name": "Python 3",
   "language": "python",
   "name": "python3"
  },
  "language_info": {
   "codemirror_mode": {
    "name": "ipython",
    "version": 3
   },
   "file_extension": ".py",
   "mimetype": "text/x-python",
   "name": "python",
   "nbconvert_exporter": "python",
   "pygments_lexer": "ipython3",
   "version": "3.7.6"
  }
 },
 "nbformat": 4,
 "nbformat_minor": 2
}
